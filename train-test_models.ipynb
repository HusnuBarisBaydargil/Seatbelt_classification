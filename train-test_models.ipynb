{
 "cells": [
  {
   "cell_type": "code",
   "execution_count": null,
   "metadata": {},
   "outputs": [],
   "source": [
    "import tensorflow as tf\n",
    "import os\n",
    "import numpy as np\n",
    "from sklearn.metrics import classification_report, confusion_matrix\n",
    "from imutils import paths\n",
    "from tensorflow.keras.preprocessing.image import ImageDataGenerator\n",
    "from tensorflow.keras.optimizers import SGD\n",
    "from Augmentor import Pipeline\n",
    "\n",
    "epochs = 10\n",
    "batch_size = 256\n",
    "opt = SGD(lr=0.01, decay=1e-6, momentum=0.9, nesterov=True)"
   ]
  },
  {
   "cell_type": "code",
   "execution_count": null,
   "metadata": {},
   "outputs": [],
   "source": [
    "def augment_images(data_path: str, augment_count: int) -> None:\n",
    "\n",
    "    sample = Augmentor.Pipeline(data_path)\n",
    "    Pipeline.set_seed(1230)\n",
    "    sample.resize(probability=1.0, width=160, height=120, resample_filter=\"BICUBIC\")\n",
    "    sample.rotate(probability=0.5, max_left_rotation=10, max_right_rotation=10)\n",
    "    sample.zoom(probability=0.5, min_factor=1.0, max_factor=1.2)\n",
    "    sample.flip_left_right(probability=0.5)\n",
    "    sample.gaussian_distortion(\n",
    "        probability=1,\n",
    "        grid_width=4,\n",
    "        grid_height=4,\n",
    "        magnitude=2,\n",
    "        corner=\"bell\",\n",
    "        method=\"in\",\n",
    "        mex=0.5,\n",
    "        mey=0.5,\n",
    "        sdx=0.05,\n",
    "        sdy=0.05,\n",
    "    )\n",
    "    sample.random_brightness(probability=1, min_factor=0.5, max_factor=1.5)\n",
    "    sample.random_color(probability=1, min_factor=0.5, max_factor=2)\n",
    "\n",
    "    sample.status()\n",
    "    sample.sample(augment_count, multi_threaded=True)\n",
    "    return"
   ]
  },
  {
   "cell_type": "code",
   "execution_count": null,
   "metadata": {},
   "outputs": [],
   "source": [
    "# EXAMPLE AUGMENTATION FOR TRAINING DATASET\n",
    "augment_images('/home/z6/Furkan-data/seatbelt/REFINED_RAW_DATASET/train', 300_000)"
   ]
  },
  {
   "cell_type": "code",
   "execution_count": null,
   "metadata": {},
   "outputs": [],
   "source": [
    "# 300_000 AUGMENTED DATA\n",
    "TRAIN_PATH = '/home/z6/Furkan-data/seatbelt/aug-refined-original/train'\n",
    "VAL_PATH = '/home/z6/Furkan-data/seatbelt/aug-refined-original/val'\n",
    "TEST_PATH = '/home/z6/Furkan-data/seatbelt/aug-refined-original//test'\n",
    "\n",
    "# determine the total number of image paths in training, validation,\n",
    "# and testing directories\n",
    "totalTrain = len(list(paths.list_images(TRAIN_PATH)))\n",
    "totalVal = len(list(paths.list_images(VAL_PATH)))\n",
    "totalTest = len(list(paths.list_images(TEST_PATH)))\n",
    "\n",
    "batch_size = 256\n",
    "\n",
    "train_datagen = ImageDataGenerator(rescale=1 / 255.0)\n",
    "\n",
    "\n",
    "trainGen = train_datagen.flow_from_directory(\n",
    "    TRAIN_PATH,\n",
    "    class_mode=\"categorical\",\n",
    "    target_size=(160, 120),\n",
    "    color_mode=\"rgb\",\n",
    "    shuffle=True,\n",
    "    batch_size=batch_size)\n",
    "\n",
    "val_datagen = ImageDataGenerator(rescale=1 / 255.0)\n",
    "\n",
    "valGen = val_datagen.flow_from_directory(\n",
    "    VAL_PATH,\n",
    "    class_mode=\"categorical\",\n",
    "    target_size=(160, 120),\n",
    "    color_mode=\"rgb\",\n",
    "    shuffle=True,\n",
    "    batch_size=batch_size)\n",
    "\n",
    "testAug = ImageDataGenerator(rescale=1 / 255.0)\n",
    "\n",
    "testGen = testAug.flow_from_directory(\n",
    "    TEST_PATH,\n",
    "    class_mode=\"categorical\",\n",
    "    target_size=(160, 120),\n",
    "    color_mode=\"rgb\",\n",
    "    shuffle=False,\n",
    "    batch_size=batch_size)"
   ]
  },
  {
   "cell_type": "code",
   "execution_count": null,
   "metadata": {},
   "outputs": [],
   "source": [
    "#CUSTOM CALLBACK TO PRINT LOSS AND ACCURACY DURING TRAINING \n",
    "class LossAndErrorPrintingCallback(tf.keras.callbacks.Callback):\n",
    "    def on_train_batch_end(self, batch, logs=None):\n",
    "        print(\"For batch {}, loss is {:7.4f}.\".format(batch, logs[\"loss\"]))\n",
    "\n",
    "    def on_test_batch_end(self, batch, logs=None):\n",
    "        print(\" For batch {}, loss is {:7.4f}.\".format(batch, logs[\"loss\"]))\n"
   ]
  },
  {
   "cell_type": "code",
   "execution_count": null,
   "metadata": {},
   "outputs": [],
   "source": [
    "# GOOGLENET MODEL COMPILE AND TRAIN\n",
    "\n",
    "\n",
    "model = tf.keras.applications.InceptionV3(\n",
    "    include_top=True, weights=None, input_tensor=None,\n",
    "    input_shape=(160, 120, 3), pooling=None, classes=2)\n",
    "\n",
    "model.compile(loss=tf.keras.losses.categorical_crossentropy,\n",
    "              optimizer=opt,\n",
    "              metrics=['accuracy'])\n",
    "\n",
    "starter = model.fit_generator(\n",
    "    trainGen,\n",
    "    steps_per_epoch=totalTrain // batch_size,\n",
    "    validation_data=valGen,\n",
    "    validation_steps=totalVal // batch_size,\n",
    "    validation_freq=1,\n",
    "    epochs=epochs,\n",
    "callbacks=[LossAndErrorPrintingCallback()])"
   ]
  },
  {
   "cell_type": "code",
   "execution_count": null,
   "metadata": {},
   "outputs": [],
   "source": [
    "# CLASSIFICATION REPORT AND THE CONFUSION MATRIX FOR THE GOOGLENET\n",
    "testGen.reset()\n",
    "predIdxs = model.predict_generator(testGen,\n",
    "                                        steps=(totalTest // batch_size) + 1)\n",
    "predIdxs = np.argmax(predIdxs, axis=1)\n",
    "\n",
    "print(classification_report(testGen.classes, predIdxs, target_names=testGen.class_indices.keys()))\n",
    "print(confusion_matrix(testGen.classes, predIdxs))"
   ]
  },
  {
   "cell_type": "code",
   "execution_count": null,
   "metadata": {},
   "outputs": [],
   "source": [
    "# DENSENET121 MODEL COMPILE AND TRAIN\n",
    "\n",
    "model = tf.keras.applications.DenseNet121(\n",
    "    include_top=True, weights=None, input_tensor=None,\n",
    "    input_shape=(160, 120, 3), pooling=None, classes=2)\n",
    "\n",
    "model.compile(loss=tf.keras.losses.categorical_crossentropy,\n",
    "              optimizer=opt,\n",
    "              metrics=['accuracy'])\n",
    "\n",
    "starter = model.fit_generator(\n",
    "    trainGen,\n",
    "    steps_per_epoch=totalTrain // batch_size,\n",
    "    validation_data=valGen,\n",
    "    validation_steps=totalVal // batch_size,\n",
    "    validation_freq=1,\n",
    "    epochs=epochs,\n",
    "callbacks=[LossAndErrorPrintingCallback()])"
   ]
  },
  {
   "cell_type": "code",
   "execution_count": null,
   "metadata": {},
   "outputs": [],
   "source": [
    "# CLASSIFICATION REPORT AND THE CONFUSION MATRIX FOR DENSENET121\n",
    "\n",
    "testGen.reset()\n",
    "predIdxs = model.predict_generator(testGen,\n",
    "                                        steps=(totalTest // batch_size) + 1)\n",
    "predIdxs = np.argmax(predIdxs, axis=1)\n",
    "\n",
    "print(classification_report(testGen.classes, predIdxs, target_names=testGen.class_indices.keys()))\n",
    "print(confusion_matrix(testGen.classes, predIdxs))"
   ]
  },
  {
   "cell_type": "code",
   "execution_count": null,
   "metadata": {},
   "outputs": [],
   "source": [
    "# RESNET50 MODEL COMPILE AND TRAIN\n",
    "\n",
    "model = tf.keras.applications.ResNet50(\n",
    "    include_top=True, weights=None, input_tensor=None,\n",
    "    input_shape=(160, 120, 3), pooling=None, classes=2)\n",
    "\n",
    "model.compile(loss=tf.keras.losses.categorical_crossentropy,\n",
    "              optimizer=opt,\n",
    "              metrics=['accuracy'])\n",
    "\n",
    "starter = model.fit_generator(\n",
    "    trainGen,\n",
    "    steps_per_epoch=totalTrain // batch_size,\n",
    "    validation_data=valGen,\n",
    "    validation_steps=totalVal // batch_size,\n",
    "    validation_freq=1,\n",
    "    epochs=epochs,\n",
    "callbacks=[LossAndErrorPrintingCallback()])"
   ]
  },
  {
   "cell_type": "code",
   "execution_count": null,
   "metadata": {},
   "outputs": [],
   "source": [
    "# CLASSIFICATION REPORT AND THE CONFUSION MATRIX FOR RESNET50\n",
    "\n",
    "testGen.reset()\n",
    "predIdxs = model.predict_generator(testGen,\n",
    "                                        steps=(totalTest // batch_size) + 1)\n",
    "predIdxs = np.argmax(predIdxs, axis=1)\n",
    "\n",
    "print(classification_report(testGen.classes, predIdxs, target_names=testGen.class_indices.keys()))\n",
    "print(confusion_matrix(testGen.classes, predIdxs))"
   ]
  }
 ],
 "metadata": {
  "kernelspec": {
   "display_name": "Python 3",
   "language": "python",
   "name": "python3"
  },
  "language_info": {
   "codemirror_mode": {
    "name": "ipython",
    "version": 3
   },
   "file_extension": ".py",
   "mimetype": "text/x-python",
   "name": "python",
   "nbconvert_exporter": "python",
   "pygments_lexer": "ipython3",
   "version": "3.6.8"
  }
 },
 "nbformat": 4,
 "nbformat_minor": 4
}
